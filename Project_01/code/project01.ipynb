{
 "cells": [
  {
   "cell_type": "markdown",
   "metadata": {},
   "source": [
    "## Instructions\n",
    "\n",
    "This template provides a structured format for students to organize their Python codes using Jupyter Notebooks. \n",
    "If you are not using Python, you can ignore this.\n",
    "\n",
    "### Data Analytics Section\n",
    "\n",
    "1. **Data Loading**: Load the dataset(s) required for your analysis. The dataset(s) are provided in the data folder. .\n",
    "\n",
    "2. **Data Preprocessing**: Preprocess the data as necessary for your analysis. This may involve handling missing values, encoding categorical variables, scaling numerical features, or any other preprocessing steps required. (Step 2 and Step 3 are vice versa)\n",
    "\n",
    "3. **Exploratory Data Analysis (EDA)**: Perform exploratory data analysis to understand the structure and characteristics of the dataset(s). This may include summary statistics, data visualization, and identifying patterns or trends.\n",
    "\n",
    "4. **Results**: Present the results of your analysis, including any insights or conclusions drawn from the data. This may include visualizations, summary statistics, or model evaluation metrics.\n",
    "\n",
    "6. **Conclusion**: Summarize your findings and conclusions from the data analysis. Discuss any insights gained, implications, or recommendations based on the analysis results.\n",
    "\n",
    "\n",
    "### Instructions for Code\n",
    "\n",
    "1. Follow the clean-code instructions. \n",
    "2. Each step should be in a separate cell. \n",
    "\n",
    "### Optional: Additional Comments or Notes\n",
    "\n",
    "Include any additional comments, notes, or instructions specific to your analysis or project requirements.\n"
   ]
  }
 ],
 "metadata": {
  "language_info": {
   "name": "python"
  }
 },
 "nbformat": 4,
 "nbformat_minor": 2
}
