{
 "cells": [
  {
   "cell_type": "code",
   "execution_count": null,
   "metadata": {},
   "outputs": [],
   "source": [
    "import pandas as pd\n",
    "\n",
    "df = pd.read_csv('../data/demo_data.csv')\n",
    "df['Announced']= pd.to_datetime(df['Announced at'], format='%m/%d/%Y %H:%M')\n",
    "df['Applied']= pd.to_datetime(df['Applied at'], format='%m/%d/%Y %H:%M')\n",
    "df['Time_Elapsed'] = df['Applied'] - df['Announced']\n",
    "df.drop(columns = {\"Announced at\", \"Applied at\"}, inplace = True)\n",
    "df['Age'] = df['Age'].str.split(r'[.\\s]+', expand=True)[0]\n",
    "df.rename(columns={'Highest Education': 'Education'}, inplace = True)"
   ]
  },
  {
   "cell_type": "code",
   "execution_count": null,
   "metadata": {},
   "outputs": [],
   "source": [
    "import pandas as pd\n",
    "import plotly.express as px\n",
    "import matplotlib.pyplot as plt\n",
    "blue_variance = [\"#3333FF\", \"#6666FF\", \"#9999FF\", \"#CCCCFF\", \n",
    "                 \"#E6E6FF\", \"#0000FF\", \"#0000CC\", \"#000099\", \"#000066\", \"#000033\"]\n",
    "\n",
    "\n",
    "def draw_one_feature(df,feature):\n",
    "    df1 = df[feature].value_counts(normalize=True).to_frame()\n",
    "    df1.rename(columns={'proportion': feature}, inplace = True)\n",
    "    \n",
    "    # Create pie charts\n",
    "    fig = px.pie(df1, values=feature, names=df1.index, hole=0.4, \n",
    "                color_discrete_sequence=blue_variance, width=800, height=600)\n",
    "    fig.update_traces(textinfo='percent+label')\n",
    "\n",
    "    fig.update_layout(annotations=[dict(text= feature + ' Distribution', x=0.5, y=0.5, font_size=18, showarrow=False)])\n",
    "    fig.update_layout(showlegend=False, font_size = 16,   \n",
    "                    margin=dict(l=0,r=0,b=2,t=0))\n",
    "    fname = '../results/'+feature+'_ind.png'\n",
    "    fig.write_image(fname, width=800, height=600, scale=2)\n",
    "    fig.show()"
   ]
  },
  {
   "cell_type": "code",
   "execution_count": null,
   "metadata": {},
   "outputs": [],
   "source": [
    "#%pip install -U kaleido\n",
    "features = list(df.columns)[1:4]\n",
    "for feature in features:\n",
    "    draw_one_feature(df,feature)"
   ]
  },
  {
   "cell_type": "code",
   "execution_count": null,
   "metadata": {},
   "outputs": [],
   "source": [
    "\n",
    "import seaborn as sns\n",
    "def result_graph(df,feature, sort_by_feature):\n",
    "    grouped_data = df.groupby(feature)['Entranced'].agg(Total='count', Yes=lambda x: (x == 'Yes').sum())\n",
    "    grouped_data['Percentage'] = (100*grouped_data['Yes']/grouped_data['Total']).round(1)\n",
    "    grouped_data.sort_values(by = sort_by_feature, inplace = True)\n",
    "    grouped_data.reset_index(inplace = True)\n",
    "    sns.set(rc={'figure.figsize':(16,10)})\n",
    "    ax = sns.barplot(x='Total', y=feature, data=grouped_data, color=\"#CCCCFF\", label='Total')\n",
    "    ax = sns.barplot(x='Yes', y=feature, data=grouped_data, color='green', label='Take Exam')\n",
    "    num_locations = grouped_data.shape[0]\n",
    "    for idx, p in enumerate(ax.patches[num_locations:]):    \n",
    "        width = p.get_width()    \n",
    "        ax.annotate(f'{grouped_data[\"Percentage\"][idx]}%', \n",
    "                    xy=(width, p.get_y() + p.get_height() / 2), \n",
    "                    xytext=(15, 0), fontsize = 14,\n",
    "                    textcoords='offset points', \n",
    "                    ha='left', \n",
    "                    va='center', \n",
    "                    color='black')\n",
    "    plt.title('Comparison of Students: Entrance Exam Participants vs. Applicants by ' + feature, fontsize = 18)\n",
    "    plt.legend(fontsize = 18)\n",
    "    plt.xlabel('')\n",
    "    plt.ylabel('')\n",
    "    plt.yticks(rotation=0, fontsize = 16)  \n",
    "    plt.xticks(rotation=0, fontsize = 16)  \n",
    "    plt.savefig('../results/'+feature+'.png', bbox_inches='tight', dpi=300)\n",
    "    plt.show()"
   ]
  },
  {
   "cell_type": "code",
   "execution_count": null,
   "metadata": {},
   "outputs": [],
   "source": [
    "result_graph(df,'Age', 'Age')\n",
    "result_graph(df,'Location', 'Total')\n",
    "result_graph(df,'Education', 'Total')\n"
   ]
  },
  {
   "cell_type": "code",
   "execution_count": null,
   "metadata": {},
   "outputs": [],
   "source": [
    "def time_foramt_to_total_mins(formatted_time):\n",
    "    days, time_str = str(formatted_time).split(' days ')\n",
    "    hours, minutes, _ = map(int, time_str.split(':'))\n",
    "    total_minutes = int(days) * 24 * 60 + int(hours) * 60 + int(minutes)\n",
    "    return int(days)+1\n",
    "df['Time'] = df['Time_Elapsed'].apply(time_foramt_to_total_mins)\n",
    "grouped_data = df.groupby('Time')['Entranced'].agg(Total='count', Yes=lambda x: (x == 'Yes').sum())\n",
    "grouped_data['Percentage'] = (100*grouped_data['Yes']/grouped_data['Total']).round(1)\n",
    "grouped_data.reset_index(inplace = True)\n",
    "grouped_data.to_csv('../results/time_data.csv')\n",
    "\n",
    "colors = {'Yes': 'green', 'No': 'red'}\n",
    "plt.figure(figsize=(18, 6))\n",
    "plt.scatter(df.index,df['Time'], c=df['Entranced'].map(colors), marker='*')\n",
    "plt.title('Highest Number of Applicants are observed in Day 1', fontsize = 16)\n",
    "plt.xlabel('Number of Applicants', fontsize = 20)\n",
    "plt.yticks(fontsize = 16)\n",
    "plt.xticks(fontsize = 16)\n",
    "plt.ylabel('Elapsed Time (days)', fontsize = 16)\n",
    "plt.legend(handles=[plt.Line2D([0], [0], marker='*', color='w', markerfacecolor='green', markersize=15, label='Yes'),\n",
    "                    plt.Line2D([0], [0], marker='*', color='w', markerfacecolor='red', markersize=15, label='No')],\n",
    "           fontsize = 18)\n",
    "plt.grid(True)\n",
    "plt.savefig('../results/time_elapsed.png', bbox_inches='tight', dpi=300)\n",
    "plt.show()"
   ]
  }
 ],
 "metadata": {
  "kernelspec": {
   "display_name": ".venv",
   "language": "python",
   "name": "python3"
  },
  "language_info": {
   "codemirror_mode": {
    "name": "ipython",
    "version": 3
   },
   "file_extension": ".py",
   "mimetype": "text/x-python",
   "name": "python",
   "nbconvert_exporter": "python",
   "pygments_lexer": "ipython3",
   "version": "3.12.2"
  }
 },
 "nbformat": 4,
 "nbformat_minor": 2
}
